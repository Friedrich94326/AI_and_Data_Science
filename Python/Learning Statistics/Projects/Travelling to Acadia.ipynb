{
 "cells": [
  {
   "cell_type": "code",
   "execution_count": 1,
   "metadata": {},
   "outputs": [
    {
     "ename": "ModuleNotFoundError",
     "evalue": "No module named 'codecademylib3'",
     "output_type": "error",
     "traceback": [
      "\u001b[1;31m---------------------------------------------------------------------------\u001b[0m",
      "\u001b[1;31mModuleNotFoundError\u001b[0m                       Traceback (most recent call last)",
      "\u001b[1;32m<ipython-input-1-ad3bd72d24e3>\u001b[0m in \u001b[0;36m<module>\u001b[1;34m\u001b[0m\n\u001b[0;32m      1\u001b[0m \u001b[1;31m# import codecademylib3\u001b[0m\u001b[1;33m\u001b[0m\u001b[1;33m\u001b[0m\u001b[1;33m\u001b[0m\u001b[0m\n\u001b[1;32m----> 2\u001b[1;33m \u001b[1;32mimport\u001b[0m \u001b[0mcodecademylib3\u001b[0m\u001b[1;33m\u001b[0m\u001b[1;33m\u001b[0m\u001b[0m\n\u001b[0m\u001b[0;32m      3\u001b[0m \u001b[1;32mimport\u001b[0m \u001b[0mnumpy\u001b[0m \u001b[1;32mas\u001b[0m \u001b[0mnp\u001b[0m\u001b[1;33m\u001b[0m\u001b[1;33m\u001b[0m\u001b[0m\n\u001b[0;32m      4\u001b[0m \u001b[1;32mfrom\u001b[0m \u001b[0mmatplotlib\u001b[0m \u001b[1;32mimport\u001b[0m \u001b[0mpyplot\u001b[0m \u001b[1;32mas\u001b[0m \u001b[0mplt\u001b[0m\u001b[1;33m\u001b[0m\u001b[1;33m\u001b[0m\u001b[0m\n\u001b[0;32m      5\u001b[0m \u001b[1;33m\u001b[0m\u001b[0m\n",
      "\u001b[1;31mModuleNotFoundError\u001b[0m: No module named 'codecademylib3'"
     ]
    }
   ],
   "source": [
    "# import codecademylib3\n",
    "import codecademylib3\n",
    "import numpy as np\n",
    "from matplotlib import pyplot as plt\n",
    "\n",
    "# load in data\n",
    "in_bloom = np.loadtxt(open(\"in-bloom.csv\"), delimiter=\",\")\n",
    "flights = np.loadtxt(open(\"flights.csv\"), delimiter=\",\")\n",
    "\n",
    "# Plot the histograms\n",
    "\n",
    "plt.figure(1)\n",
    "plt.subplot(2, 1, 1)\n",
    "plt.subplots_adjust(hspace = 1)\n",
    "\n",
    "plt.hist(flights, bins = 12, color = '#1B88E5', range = (0, 365), edgecolor = 'black')\n",
    "plt.title(\"Frequency of Occurrence of Flights\")\n",
    "plt.xlabel('day of the year')\n",
    "plt.ylabel('number of flights')\n",
    "\n",
    "\n",
    "plt.subplot(2, 1, 2)\n",
    "plt.hist(in_bloom, bins = 12, color = '#F35911 ', range = (0, 365), edgecolor = 'black')\n",
    "plt.title(\"Frequency of Occurrence of Flights\")\n",
    "plt.xlabel('day of the year')\n",
    "plt.ylabel('number of flowers starting blooming')\n",
    "\n",
    "\n",
    "\n",
    "\n",
    "plt.show()\n",
    "plt.close('all')"
   ]
  }
 ],
 "metadata": {
  "kernelspec": {
   "display_name": "Python 3",
   "language": "python",
   "name": "python3"
  },
  "language_info": {
   "codemirror_mode": {
    "name": "ipython",
    "version": 3
   },
   "file_extension": ".py",
   "mimetype": "text/x-python",
   "name": "python",
   "nbconvert_exporter": "python",
   "pygments_lexer": "ipython3",
   "version": "3.8.3"
  }
 },
 "nbformat": 4,
 "nbformat_minor": 4
}
